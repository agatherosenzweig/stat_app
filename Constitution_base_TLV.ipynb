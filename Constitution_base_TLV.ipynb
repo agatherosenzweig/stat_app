{
  "nbformat": 4,
  "nbformat_minor": 0,
  "metadata": {
    "colab": {
      "name": "Constitution_base_TLV.ipynb",
      "provenance": [],
      "collapsed_sections": []
    },
    "kernelspec": {
      "name": "python3",
      "display_name": "Python 3"
    }
  },
  "cells": [
    {
      "cell_type": "code",
      "metadata": {
        "id": "vnoZa20rHGOW"
      },
      "source": [
        "import urllib\r\n",
        "import bs4\r\n",
        "import pandas as pd\r\n",
        "import numpy as np\r\n"
      ],
      "execution_count": 176,
      "outputs": []
    },
    {
      "cell_type": "code",
      "metadata": {
        "colab": {
          "base_uri": "https://localhost:8080/"
        },
        "id": "yzvG0dk2HPIu",
        "outputId": "4d592359-0c89-4da6-8f7e-e01a6b573987"
      },
      "source": [
        "url = \"https://www.legifrance.gouv.fr/jorf/article_jo/JORFARTI000027399834\"\r\n",
        "    \r\n",
        "from urllib import request \r\n",
        "request_text = request.urlopen(url).read()\r\n",
        "print(request_text[:1000]) \r\n",
        "type(request_text)"
      ],
      "execution_count": 165,
      "outputs": [
        {
          "output_type": "stream",
          "text": [
            "b'<!DOCTYPE html><html lang=\"fr\" class=\"no-js\" dir=\"ltr\"><head><title>Article  - D\\xc3\\xa9cret n\\xc2\\xb0 2013-392 du 10 mai 2013  relatif au champ d&#39;application de la taxe annuelle sur les logements vacants institu\\xc3\\xa9e par l&#39;article 232 du code g\\xc3\\xa9n\\xc3\\xa9ral des imp\\xc3\\xb4ts - L\\xc3\\xa9gifrance</title><meta charset=\"utf-8\"/><meta http-equiv=\"X-UA-Compatible\" content=\"IE=edge\"/><meta name=\"viewport\" content=\"width=device-width, initial-scale=1\"/><meta name=\"description\" content=\"D\\xc3\\xa9cret n\\xc2\\xb0 2013-392 du 10 mai 2013  relatif au champ d&#39;application de la taxe annuelle sur les logements vacants ... &gt; Article \"/><meta name=\"author\" content=\"\"/><meta name=\"format-detection\" content=\"telephone=no\"/><meta name=\"_csrf\" content=\"5065bf09-500c-402c-901e-f5e10e3732e1\"/><meta name=\"_csrf_header\" content=\"X-CSRF-TOKEN\"/><meta name=\"robots\" content=\"index, follow\"><link rel=\"Shortcut icon\" type=\"image/x-icon\" href=\"/resources/images/favicon.ico\"/><link rel=\"icon\" sizes=\"16x16 32x32 48x48 64x64\" href=\"/resources/imag'\n"
          ],
          "name": "stdout"
        },
        {
          "output_type": "execute_result",
          "data": {
            "text/plain": [
              "bytes"
            ]
          },
          "metadata": {
            "tags": []
          },
          "execution_count": 165
        }
      ]
    },
    {
      "cell_type": "code",
      "metadata": {
        "colab": {
          "base_uri": "https://localhost:8080/"
        },
        "id": "0G0hSB0fHpP7",
        "outputId": "c959077f-33e1-4e4d-deef-6cc239520a20"
      },
      "source": [
        "page = bs4.BeautifulSoup(request_text, \"lxml\")\r\n",
        "\r\n",
        "#La page ne contient qu'un seul tableau \r\n",
        "tableau = page.find(\"table\")\r\n",
        "cols = tableau.find_all('tr')\r\n",
        "\r\n",
        "dico_zone_tlv = dict()\r\n",
        "for col in cols:\r\n",
        "    rows = col.find_all('td')\r\n",
        "    rows = [ele.text.strip() for ele in rows]\r\n",
        "    if len(rows) > 0 : #pour supprimer la première liste vide\r\n",
        "        dico_zone_tlv[rows[2]] = rows[1] \r\n",
        "data_tlv = pd.DataFrame.from_dict(dico_zone_tlv,orient='index') \r\n",
        "\r\n",
        "print(len(data_tlv))"
      ],
      "execution_count": 167,
      "outputs": [
        {
          "output_type": "stream",
          "text": [
            "1148\n"
          ],
          "name": "stdout"
        }
      ]
    },
    {
      "cell_type": "code",
      "metadata": {
        "colab": {
          "base_uri": "https://localhost:8080/",
          "height": 450
        },
        "id": "o__SLYBAWPiR",
        "outputId": "acb0582a-d27e-49f6-9def-5ad92dbcd0f3"
      },
      "source": [
        "data_tlv[\"index\"] = [ i for i in range(len(data_tlv))]\r\n",
        "data_tlv[\"libelle\"] = data_tlv.index\r\n",
        "data_tlv.index = data_tlv[\"index\"]\r\n",
        "data_tlv[\"tlv\"] = 1\r\n",
        "data_tlv"
      ],
      "execution_count": 168,
      "outputs": [
        {
          "output_type": "execute_result",
          "data": {
            "text/html": [
              "<div>\n",
              "<style scoped>\n",
              "    .dataframe tbody tr th:only-of-type {\n",
              "        vertical-align: middle;\n",
              "    }\n",
              "\n",
              "    .dataframe tbody tr th {\n",
              "        vertical-align: top;\n",
              "    }\n",
              "\n",
              "    .dataframe thead th {\n",
              "        text-align: right;\n",
              "    }\n",
              "</style>\n",
              "<table border=\"1\" class=\"dataframe\">\n",
              "  <thead>\n",
              "    <tr style=\"text-align: right;\">\n",
              "      <th></th>\n",
              "      <th>0</th>\n",
              "      <th>index</th>\n",
              "      <th>libelle</th>\n",
              "      <th>tlv</th>\n",
              "    </tr>\n",
              "    <tr>\n",
              "      <th>index</th>\n",
              "      <th></th>\n",
              "      <th></th>\n",
              "      <th></th>\n",
              "      <th></th>\n",
              "    </tr>\n",
              "  </thead>\n",
              "  <tbody>\n",
              "    <tr>\n",
              "      <th>0</th>\n",
              "      <td>2A</td>\n",
              "      <td>0</td>\n",
              "      <td>Ajaccio</td>\n",
              "      <td>1</td>\n",
              "    </tr>\n",
              "    <tr>\n",
              "      <th>1</th>\n",
              "      <td>74</td>\n",
              "      <td>1</td>\n",
              "      <td>Annecy</td>\n",
              "      <td>1</td>\n",
              "    </tr>\n",
              "    <tr>\n",
              "      <th>2</th>\n",
              "      <td>74</td>\n",
              "      <td>2</td>\n",
              "      <td>Annecy-le-Vieux</td>\n",
              "      <td>1</td>\n",
              "    </tr>\n",
              "    <tr>\n",
              "      <th>3</th>\n",
              "      <td>74</td>\n",
              "      <td>3</td>\n",
              "      <td>Argonay</td>\n",
              "      <td>1</td>\n",
              "    </tr>\n",
              "    <tr>\n",
              "      <th>4</th>\n",
              "      <td>74</td>\n",
              "      <td>4</td>\n",
              "      <td>Chavanod</td>\n",
              "      <td>1</td>\n",
              "    </tr>\n",
              "    <tr>\n",
              "      <th>...</th>\n",
              "      <td>...</td>\n",
              "      <td>...</td>\n",
              "      <td>...</td>\n",
              "      <td>...</td>\n",
              "    </tr>\n",
              "    <tr>\n",
              "      <th>1143</th>\n",
              "      <td>31</td>\n",
              "      <td>1143</td>\n",
              "      <td>L'Union</td>\n",
              "      <td>1</td>\n",
              "    </tr>\n",
              "    <tr>\n",
              "      <th>1144</th>\n",
              "      <td>31</td>\n",
              "      <td>1144</td>\n",
              "      <td>Vieille-Toulouse</td>\n",
              "      <td>1</td>\n",
              "    </tr>\n",
              "    <tr>\n",
              "      <th>1145</th>\n",
              "      <td>31</td>\n",
              "      <td>1145</td>\n",
              "      <td>Vigoulet-Auzil</td>\n",
              "      <td>1</td>\n",
              "    </tr>\n",
              "    <tr>\n",
              "      <th>1146</th>\n",
              "      <td>31</td>\n",
              "      <td>1146</td>\n",
              "      <td>Villate</td>\n",
              "      <td>1</td>\n",
              "    </tr>\n",
              "    <tr>\n",
              "      <th>1147</th>\n",
              "      <td>31</td>\n",
              "      <td>1147</td>\n",
              "      <td>Villeneuve-Tolosane</td>\n",
              "      <td>1</td>\n",
              "    </tr>\n",
              "  </tbody>\n",
              "</table>\n",
              "<p>1148 rows × 4 columns</p>\n",
              "</div>"
            ],
            "text/plain": [
              "        0  index              libelle  tlv\n",
              "index                                     \n",
              "0      2A      0              Ajaccio    1\n",
              "1      74      1               Annecy    1\n",
              "2      74      2      Annecy-le-Vieux    1\n",
              "3      74      3              Argonay    1\n",
              "4      74      4             Chavanod    1\n",
              "...    ..    ...                  ...  ...\n",
              "1143   31   1143              L'Union    1\n",
              "1144   31   1144     Vieille-Toulouse    1\n",
              "1145   31   1145       Vigoulet-Auzil    1\n",
              "1146   31   1146              Villate    1\n",
              "1147   31   1147  Villeneuve-Tolosane    1\n",
              "\n",
              "[1148 rows x 4 columns]"
            ]
          },
          "metadata": {
            "tags": []
          },
          "execution_count": 168
        }
      ]
    },
    {
      "cell_type": "code",
      "metadata": {
        "id": "UIR2VMX_N8GN"
      },
      "source": [
        "from io import BytesIO\r\n",
        "from zipfile import ZipFile\r\n",
        "from urllib.request import urlopen\r\n",
        "\r\n",
        "def csv_zip_to_df (url_file,file_name):\r\n",
        "  url = urlopen(url_file)\r\n",
        "  zipfile = ZipFile(BytesIO(url.read()))\r\n",
        "  dataframe = pd.read_csv(zipfile.open(file_name), header = 0,sep=\",\")\r\n",
        "  return dataframe\r\n",
        "\r\n",
        "url_file = \"https://www.insee.fr/fr/statistiques/fichier/4316069/cog_ensemble_2020_csv.zip\"\r\n",
        "file_name = \"communes2020.csv\"\r\n",
        "com= csv_zip_to_df(url_file, file_name)\r\n",
        "\r\n",
        "\r\n"
      ],
      "execution_count": 169,
      "outputs": []
    },
    {
      "cell_type": "code",
      "metadata": {
        "colab": {
          "base_uri": "https://localhost:8080/"
        },
        "id": "axxZrdXJShuH",
        "outputId": "5016144a-419d-45d7-f132-5d2e9e67a22d"
      },
      "source": [
        "filter = [\"01\",\"03\", \"07\", \"15\",\"26\",\"38\",\"42\",\"43\",\"63\",\"69\",\"73\",\"74\" ]\r\n",
        "com_auv_rhones_alpes = com.query('dep == @filter')\r\n",
        "\r\n",
        "\r\n",
        "com_auv_rhones_alpes.rename(columns={'com': 'libcom'}, inplace=True)\r\n",
        "com_auv_rhones_alpes = com_auv_rhones_alpes[['libcom', 'libelle']]\r\n",
        "\r\n"
      ],
      "execution_count": 170,
      "outputs": [
        {
          "output_type": "stream",
          "text": [
            "/usr/local/lib/python3.6/dist-packages/pandas/core/frame.py:4308: SettingWithCopyWarning: \n",
            "A value is trying to be set on a copy of a slice from a DataFrame\n",
            "\n",
            "See the caveats in the documentation: https://pandas.pydata.org/pandas-docs/stable/user_guide/indexing.html#returning-a-view-versus-a-copy\n",
            "  errors=errors,\n"
          ],
          "name": "stderr"
        }
      ]
    },
    {
      "cell_type": "code",
      "metadata": {
        "colab": {
          "base_uri": "https://localhost:8080/"
        },
        "id": "OvFru6FXWOOj",
        "outputId": "59f5c569-d99e-4f47-c105-c018ee8eef84"
      },
      "source": [
        "df = pd.merge(data_tlv, com_auv_rhones_alpes, on = \"libelle\", how = \"outer\")\r\n",
        "df = df.dropna(subset=['libcom'])\r\n",
        "df = df[[\"libelle\", \"tlv\", \"libcom\"]]\r\n",
        "df['tlv'] = df['tlv'].replace({np.nan : '0'})\r\n",
        "\r\n"
      ],
      "execution_count": 186,
      "outputs": [
        {
          "output_type": "stream",
          "text": [
            "               libelle tlv libcom\n",
            "1               Annecy   1  74010\n",
            "3              Argonay   1  74019\n",
            "4             Chavanod   1  74067\n",
            "5            Chevaline   1  74072\n",
            "7             Doussard   1  74104\n",
            "...                ...  ..    ...\n",
            "4936   Viuz-la-Chiésaz   0  74310\n",
            "4937    Viuz-en-Sallaz   0  74311\n",
            "4938  Vovray-en-Bornes   0  74313\n",
            "4939           Vulbens   0  74314\n",
            "4940            Yvoire   0  74315\n",
            "\n",
            "[4039 rows x 3 columns]\n"
          ],
          "name": "stdout"
        }
      ]
    },
    {
      "cell_type": "code",
      "metadata": {
        "colab": {
          "base_uri": "https://localhost:8080/"
        },
        "id": "n111C6EPdWyB",
        "outputId": "65abe56f-e8ed-421e-896c-dd96d218b387"
      },
      "source": [
        "from google.colab import drive\r\n",
        "drive.mount('drive')\r\n",
        "df.to_csv('data_tlv.csv')\r\n",
        "!cp data.csv \"drive/My Drive/\""
      ],
      "execution_count": 197,
      "outputs": [
        {
          "output_type": "stream",
          "text": [
            "Mounted at drive\n"
          ],
          "name": "stdout"
        }
      ]
    }
  ]
}