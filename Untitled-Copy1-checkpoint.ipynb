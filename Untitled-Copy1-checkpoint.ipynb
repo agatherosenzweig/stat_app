{
 "cells": [
  {
   "cell_type": "code",
   "execution_count": 99,
   "metadata": {},
   "outputs": [
    {
     "name": "stderr",
     "output_type": "stream",
     "text": [
      "C:\\Users\\agros\\anaconda3\\lib\\site-packages\\IPython\\core\\interactiveshell.py:3071: DtypeWarning: Columns (1,29,39) have mixed types.Specify dtype option on import or set low_memory=False.\n",
      "  has_raised = await self.run_ast_nodes(code_ast.body, cell_name,\n"
     ]
    },
    {
     "name": "stdout",
     "output_type": "stream",
     "text": [
      "(1048575, 56)\n",
      "['Indices', 'ff_idlocal', 'X.x', 'codgeo_2020', 'ff_ccodep', 'ff_idcom', 'ff_millesime', 'ff_idsec', 'ff_dteloc', 'ff_ctpdl', 'ff_stoth', 'ff_slocal', 'ff_npiece_p2', 'ff_jannath', 'ff_ccthp', 'ff_ndroit', 'ff_proba_rprs', 'ff_dnbbai', 'ff_dnbdou', 'ff_dnbwc', 'ff_dcapec2', 'ff_ccogrm', 'ff_locprop', 'ff_catpro2txt', 'ff_catpro2', 'ff_catpro3', 'ff_x', 'ff_y', 'ff_annss', 'ff_idppre', 'X.y', 'ccodep', 'annee', 'dir', 'sip', 'commune', 'intercommunalite', 'groupe', 'nature', 'loc_voie', 'loc_num', 'invariant', 'refcad', 'batloc', 'vlcad', 'vl_revpro', 'aff', 'anmutation', 'libvoie', 'libcom', 'debutvacance', 'anrefthlv', 'txtlv', 'vl_2019', 'vlb_pro', 'potentiel_tlv_thlv']\n",
      "[nan  0.  5.  4.  2.  1.  7.  3.  9.  6.  8.]\n"
     ]
    }
   ],
   "source": [
    "import numpy as np\n",
    "import pandas as pd\n",
    "\n",
    "data = pd.read_csv('base.csv', sep =\";\")\n",
    "print(data.shape)\n",
    "print(list(data.columns))\n",
    "print(pd.unique(data[\"ff_ccogrm\"]))"
   ]
  },
  {
   "cell_type": "code",
   "execution_count": 392,
   "metadata": {},
   "outputs": [
    {
     "name": "stdout",
     "output_type": "stream",
     "text": [
      "      Indices  vac_LD  vacance   ff_idlocal   X.x  codgeo_2020  ff_ccodep  \\\n",
      "524       525       0        1  10020328356   525         1002          1   \n",
      "865       866       1        1  10040000050   866         1004          1   \n",
      "1387     1388       0        1  10040001245  1388         1004          1   \n",
      "1429     1430       1        1  10040001333  1430         1004          1   \n",
      "1467     1468       0        1  10040001565  1468         1004          1   \n",
      "...       ...     ...      ...          ...   ...          ...        ...   \n",
      "5740     5741       0        1  10040269621  5741         1004          1   \n",
      "5768     5769       0        1  10040271120  5769         1004          1   \n",
      "5786     5787       1        1  10040272235  5787         1004          1   \n",
      "5787     5788       1        1  10040272236  5788         1004          1   \n",
      "5788     5789       0        1  10040272272  5789         1004          1   \n",
      "\n",
      "      ff_idcom  ff_millesime    ff_idsec  ...  aff  anmutation  \\\n",
      "524       1002          2019  01002000AE  ...    H  28/11/2003   \n",
      "865       1004          2019  01004000AB  ...    H  24/11/2017   \n",
      "1387      1004          2019  01004000AN  ...    H  01/01/1978   \n",
      "1429      1004          2019  01004000AN  ...    H  30/06/2005   \n",
      "1467      1004          2019  01004000AN  ...    H  11/04/2016   \n",
      "...        ...           ...         ...  ...  ...         ...   \n",
      "5740      1004          2019  01004000AY  ...    H  30/01/1997   \n",
      "5768      1004          2019  01004000BS  ...    H  28/03/2001   \n",
      "5786      1004          2019  01004000AN  ...    H  18/12/1995   \n",
      "5787      1004          2019  01004000AN  ...    H  18/12/1995   \n",
      "5788      1004          2019  01004000AM  ...    H  24/06/2013   \n",
      "\n",
      "                          libvoie                    libcom  debutvacance  \\\n",
      "524            0000 0 CHEZ CHABOY  ABERGEMENT-DE-VAREY (L )        2018.0   \n",
      "865             0000 0 L AVIATION         AMBERIEU-EN-BUGEY        2011.0   \n",
      "1387  0031   RUE DE LA RESISTANCE         AMBERIEU-EN-BUGEY        2018.0   \n",
      "1429     0056   AV  PAUL PAINLEVE         AMBERIEU-EN-BUGEY        1997.0   \n",
      "1467     0038 B AV  PAUL PAINLEVE         AMBERIEU-EN-BUGEY        2018.0   \n",
      "...                           ...                       ...           ...   \n",
      "5740         0000 0 RTE DU MAQUIS         AMBERIEU-EN-BUGEY        2018.0   \n",
      "5768    0049   AV  ROGER SALENGRO         AMBERIEU-EN-BUGEY        2018.0   \n",
      "5786  0008   RUE DE LA RESISTANCE         AMBERIEU-EN-BUGEY        2012.0   \n",
      "5787  0008   RUE DE LA RESISTANCE         AMBERIEU-EN-BUGEY        2014.0   \n",
      "5788         0430   RUE LEON BLUM         AMBERIEU-EN-BUGEY        2018.0   \n",
      "\n",
      "      anrefthlv txtlv  vl_2019 vlb_pro  potentiel_tlv_thlv  \n",
      "524      2018.0         3531.0     0.0                      \n",
      "865      2018.0         2642.0     0.0                      \n",
      "1387     2018.0         3243.0     0.0                      \n",
      "1429     2006.0         5424.0     0.0                   *  \n",
      "1467     2018.0         2242.0     0.0                      \n",
      "...         ...   ...      ...     ...                 ...  \n",
      "5740     2018.0         1730.0     0.0                      \n",
      "5768     2018.0         2616.0     0.0                      \n",
      "5786     2012.0         2619.0     0.0                   *  \n",
      "5787     2014.0         2619.0     0.0                   *  \n",
      "5788     2018.0         2721.0     0.0                      \n",
      "\n",
      "[100 rows x 58 columns]\n"
     ]
    }
   ],
   "source": [
    "# On sélectionne le parc privé \n",
    "data[\"ff_ccogrm\"].fillna(9)\n",
    "modalités = [0,7,8,9]\n",
    "data_p = data.loc[data['ff_ccogrm'].isin(modalités)] \n",
    "#print(len(data_p)/len(data))\n",
    "#print(data_p.head())\n",
    "\n",
    "# On ajoute une colonne à la base qui indique la vacance (ff_ccthp, modalité=V)\n",
    "condition = (data_p[\"ff_ccthp\"] == \"V\")\n",
    "condition = condition.replace([False, True], [0,1])\n",
    "data_p.insert(1, \"vacance\", condition, True) \n",
    "#print(data_p.head())\n",
    "\n",
    "#On crée la base qui regroupe tous les logements vacants\n",
    "data_pv = data_p.loc[data_p[\"vacance\"] == 1]\n",
    "#print(data_pv.head())\n",
    "\n",
    "# On ajoute une colonne à la base qui indique la vacance longue durée\n",
    "#print(pd.unique(data_pv[\"debutvacance\"]))\n",
    "\n",
    "condition = (data_pv[\"debutvacance\"] <= 2016)\n",
    "condition = condition.replace([False, True], [0,1])\n",
    "data_p.insert(1, \"vac_LD\", condition, True) \n",
    "data_pv.insert(1, \"vac_LD\", condition, True)\n",
    "print(data_pv.head(100))"
   ]
  },
  {
   "cell_type": "code",
   "execution_count": 393,
   "metadata": {},
   "outputs": [
    {
     "name": "stdout",
     "output_type": "stream",
     "text": [
      "            count      mean       std  min  25%  50%  75%  max\n",
      "ff_ccodep                                                     \n",
      "1          5517.0  0.527642  0.499281  0.0  0.0  1.0  1.0  1.0\n",
      "3          4752.0  0.559764  0.496468  0.0  0.0  1.0  1.0  1.0\n",
      "7          4316.0  0.551668  0.497381  0.0  0.0  1.0  1.0  1.0\n",
      "15         1533.0  0.555773  0.497042  0.0  0.0  1.0  1.0  1.0\n",
      "26         3194.0  0.474327  0.499419  0.0  0.0  0.0  1.0  1.0\n",
      "             count      mean       std  min  25%  50%  75%  max\n",
      "ff_ccodep                                                      \n",
      "1          20746.0  0.265931  0.441838  0.0  0.0  0.0  1.0  1.0\n",
      "3          16859.0  0.281867  0.449922  0.0  0.0  0.0  1.0  1.0\n",
      "7          17835.0  0.241996  0.428304  0.0  0.0  0.0  0.0  1.0\n",
      "15          7967.0  0.192419  0.394225  0.0  0.0  0.0  0.0  1.0\n",
      "26         14063.0  0.227121  0.418986  0.0  0.0  0.0  0.0  1.0\n",
      "ff_ccodep\n",
      "1     20746\n",
      "3     16859\n",
      "7     17835\n",
      "15     7967\n",
      "26    14063\n",
      "Name: vacance, dtype: int64\n",
      "[[1.         0.98209949]\n",
      " [0.98209949 1.        ]]\n"
     ]
    },
    {
     "data": {
      "image/png": "[encoded data removed]",
      "text/plain": [
       "<Figure size 432x288 with 1 Axes>"
      ]
     },
     "metadata": {
      "needs_background": "light"
     },
     "output_type": "display_data"
    }
   ],
   "source": [
    "import matplotlib.pyplot as plt\n",
    "\n",
    "# Echelle départementale \n",
    "\n",
    "dep = pd.unique(data_p['ff_ccodep'])\n",
    "print(data_p['vac_LD'].groupby(data_p[\"ff_ccodep\"]).describe())\n",
    "print(data_p['vacance'].groupby(data_p[\"ff_ccodep\"]).describe())\n",
    "\n",
    "print(data_p[\"vacance\"].groupby(data_p[\"ff_ccodep\"]).count())\n",
    "vac_par_dep = data_p[\"vacance\"].groupby(data_p[\"ff_ccodep\"]).count()\n",
    "plt.scatter(dep, vac_par_dep)\n",
    "vac_ld_par_dep = data_p[\"vac_LD\"].groupby(data_p[\"ff_ccodep\"]).count()\n",
    "plt.scatter(dep, vac_ld_par_dep)\n",
    "plt.xlabel('Departements de la région Auvergne-Rhones-Alpes')\n",
    "plt.ylabel('Nombre de logements vacants')\n",
    "\n",
    "plt.legend([\"vacance\", \"vacance longue durée\"])\n",
    "\n",
    "\n",
    "print(np.corrcoef(vac_ld_par_dep, vac_par_dep))\n"
   ]
  },
  {
   "cell_type": "markdown",
   "metadata": {},
   "source": [
    "Comme on pouvait s'y attendre, et comme on le remarque sur le graphe, la vacance longue durée et la vacance sont des variables extrêmement corrélées. On a 0.98209949 pour coefficient de corrélation. "
   ]
  },
  {
   "cell_type": "code",
   "execution_count": 394,
   "metadata": {},
   "outputs": [
    {
     "name": "stdout",
     "output_type": "stream",
     "text": [
      "1502\n",
      "count    1502.000000\n",
      "mean       51.577896\n",
      "std       206.409992\n",
      "min         1.000000\n",
      "25%         5.000000\n",
      "50%        12.000000\n",
      "75%        31.000000\n",
      "max      4287.000000\n",
      "Name: vacance, dtype: float64\n",
      "          count      mean       std  min  25%  50%  75%  max\n",
      "ff_idcom                                                    \n",
      "1001        0.0       NaN       NaN  NaN  NaN  NaN  NaN  NaN\n",
      "1002        1.0  0.000000       NaN  0.0  0.0  0.0  0.0  0.0\n",
      "1004      124.0  0.379032  0.487114  0.0  0.0  0.0  1.0  1.0\n",
      "1005        5.0  0.600000  0.547723  0.0  0.0  1.0  1.0  1.0\n",
      "1006        0.0       NaN       NaN  NaN  NaN  NaN  NaN  NaN\n",
      "...         ...       ...       ...  ...  ...  ...  ...  ...\n",
      "26277       3.0  0.000000  0.000000  0.0  0.0  0.0  0.0  0.0\n",
      "26278       5.0  0.800000  0.447214  0.0  1.0  1.0  1.0  1.0\n",
      "26279       1.0  1.000000       NaN  1.0  1.0  1.0  1.0  1.0\n",
      "26281     164.0  0.408537  0.493069  0.0  0.0  0.0  1.0  1.0\n",
      "26365       0.0       NaN       NaN  NaN  NaN  NaN  NaN  NaN\n",
      "\n",
      "[1502 rows x 8 columns]\n",
      "          count      mean       std  min  25%  50%   75%  max\n",
      "ff_idcom                                                     \n",
      "1001        2.0  0.000000  0.000000  0.0  0.0  0.0  0.00  0.0\n",
      "1002        7.0  0.142857  0.377964  0.0  0.0  0.0  0.00  1.0\n",
      "1004      622.0  0.199357  0.399838  0.0  0.0  0.0  0.00  1.0\n",
      "1005       42.0  0.119048  0.327770  0.0  0.0  0.0  0.00  1.0\n",
      "1006        3.0  0.000000  0.000000  0.0  0.0  0.0  0.00  0.0\n",
      "...         ...       ...       ...  ...  ...  ...   ...  ...\n",
      "26277      10.0  0.300000  0.483046  0.0  0.0  0.0  0.75  1.0\n",
      "26278      13.0  0.384615  0.506370  0.0  0.0  0.0  1.00  1.0\n",
      "26279       3.0  0.333333  0.577350  0.0  0.0  0.0  0.50  1.0\n",
      "26281     500.0  0.328000  0.469955  0.0  0.0  0.0  1.00  1.0\n",
      "26365       4.0  0.000000  0.000000  0.0  0.0  0.0  0.00  0.0\n",
      "\n",
      "[1502 rows x 8 columns]\n",
      "[[1.         0.96366835]\n",
      " [0.96366835 1.        ]]\n"
     ]
    },
    {
     "data": {
      "image/png": "[encoded data removed]",
      "text/plain": [
       "<Figure size 432x288 with 1 Axes>"
      ]
     },
     "metadata": {
      "needs_background": "light"
     },
     "output_type": "display_data"
    }
   ],
   "source": [
    "# Echelle de la commune \n",
    "print(len(pd.unique(data_p[\"ff_idcom\"])))\n",
    "com = pd.unique(data_p[\"ff_idcom\"])\n",
    "vac_par_com = data_p[\"vacance\"].groupby(data_p[\"ff_idcom\"]).count()\n",
    "vac_ld_par_com = data_p[\"vac_LD\"].groupby(data_p[\"ff_idcom\"]).count()\n",
    "print(vac_par_com.describe())\n",
    "\n",
    "print(data_p['vac_LD'].groupby(data_p[\"ff_idcom\"]).describe())\n",
    "print(data_p['vacance'].groupby(data_p[\"ff_idcom\"]).describe())\n",
    "\n",
    "\n",
    "plt.scatter(com, vac_par_com)\n",
    "plt.scatter(com, vac_ld_par_com)\n",
    "plt.xlabel('Departements de la région Auvergne-Rhones-Alpes')\n",
    "plt.ylabel('Nombre de logements vacants')\n",
    "\n",
    "\n",
    "\n",
    "print(np.corrcoef(vac_ld_par_com, vac_par_com))\n",
    "\n",
    "\n",
    "data_p = data_p.drop(columns = [ 'codgeo_2020'], axis = 1)"
   ]
  },
  {
   "cell_type": "markdown",
   "metadata": {},
   "source": [
    "Sur le graphique ci-dessus, chaque point représente une commune. On constate le même phénomène qu'a l'échelle du département. Il y a une forte corrélation entre présenter un nombre élevé de logements vacants (vacance frictionnelle), et présenter un nombre élevé de logements vacants sur une durée plus longue. "
   ]
  },
  {
   "cell_type": "code",
   "execution_count": 395,
   "metadata": {},
   "outputs": [
    {
     "name": "stdout",
     "output_type": "stream",
     "text": [
      "[2019]\n"
     ]
    }
   ],
   "source": [
    "print(pd.unique(data_p[\"ff_millesime\"]))\n",
    "data_p = data_p.drop(columns = ['ff_millesime'], axis = 1)"
   ]
  },
  {
   "cell_type": "markdown",
   "metadata": {},
   "source": [
    "Toutes les lignes de la base de données présente la même variable pour la covariable ff_millesime, elle ne présente donc aucune information, on peut la supprimer de la liste des covariables."
   ]
  },
  {
   "cell_type": "code",
   "execution_count": 396,
   "metadata": {},
   "outputs": [
    {
     "name": "stdout",
     "output_type": "stream",
     "text": [
      "77470\n",
      "count    7.747000e+04\n",
      "mean     5.511376e+05\n",
      "std      2.956392e+05\n",
      "min      1.040000e+02\n",
      "25%      3.048622e+05\n",
      "50%      5.603455e+05\n",
      "75%      7.825995e+05\n",
      "max      1.048568e+06\n",
      "Name: X.x, dtype: float64\n"
     ]
    }
   ],
   "source": [
    "print(len(pd.unique(data_p[\"X.x\"])))\n",
    "print(data_p[\"X.x\"].describe())"
   ]
  },
  {
   "cell_type": "code",
   "execution_count": 397,
   "metadata": {},
   "outputs": [
    {
     "name": "stdout",
     "output_type": "stream",
     "text": [
      "7339\n"
     ]
    }
   ],
   "source": [
    "cadastre = pd.unique(data_p['ff_idsec'])\n",
    "print(len(cadastre))\n",
    "data_p = data_p.drop(columns = ['ff_idsec'], axis = 1)"
   ]
  },
  {
   "cell_type": "code",
   "execution_count": 403,
   "metadata": {},
   "outputs": [
    {
     "name": "stdout",
     "output_type": "stream",
     "text": [
      "[1 2]\n",
      "ff_dteloc\n",
      "1    24479\n",
      "2    52991\n",
      "Name: vacance, dtype: int64\n",
      "0.6840196204982574\n",
      "ff_dteloc\n",
      "1     5430\n",
      "2    13882\n",
      "Name: vac_LD, dtype: int64\n",
      "0.718827671913836\n",
      "ff_ccodep\n",
      "1     0.712475\n",
      "3     0.704668\n",
      "7     0.659490\n",
      "15    0.750847\n",
      "26    0.610538\n",
      "Name: ff_dteloc, dtype: float64\n",
      "[[ 1.         -0.15618808]\n",
      " [-0.15618808  1.        ]]\n"
     ]
    }
   ],
   "source": [
    "type_de_local = pd.unique(data_p['ff_dteloc'])\n",
    "print(type_de_local)\n",
    "vac_par_type = data_p[\"vacance\"].groupby(data_p[\"ff_dteloc\"]).count()\n",
    "vac_ld_par_type = data_p[\"vac_LD\"].groupby(data_p[\"ff_dteloc\"]).count()\n",
    "print(vac_par_type)\n",
    "print(52991/(24479 + 52991))\n",
    "print(vac_ld_par_type)\n",
    "print(13882 /(13882 + 5430))\n",
    "\n",
    "maison_par_dep = data_p[\"ff_dteloc\"].groupby(data_p[\"ff_ccodep\"]).mean()\n",
    "print(maison_par_dep - 1)\n",
    "# On enlève 1 pour obtenir la fréquence des appartements dans chaque département\n",
    "\n",
    "#On observe la corrélation entre la présence d'appartements dans un département et le nombre de logements vacants\n",
    "\n",
    "print(np.corrcoef(vac_ld_par_dep, maison_par_dep))"
   ]
  },
  {
   "cell_type": "markdown",
   "metadata": {},
   "source": [
    "1 : maison \n",
    "2 : appartement \n",
    "\n",
    "Vacance de courte durée, les appartements sont surreprésentés, puisqu'ils représentent 68 % des biens vides. \n",
    "Vacance de longue durée, les appartements sont surreprésentés, puisqu'ils représentent 72 % des biens vides\n",
    "\n",
    "On calcule la corrélation empirique entre la fréquence d'appartement, et le nombre de logements vacants. On obtient une corrélation négative -0.15618808. Dans les départements où on trouve le plus d'appartements, il tend à y avoir un peu moins de biens vacants de longue durée. "
   ]
  },
  {
   "cell_type": "code",
   "execution_count": null,
   "metadata": {},
   "outputs": [],
   "source": []
  }
 ],
 "metadata": {
  "kernelspec": {
   "display_name": "Python 3",
   "language": "python",
   "name": "python3"
  },
  "language_info": {
   "codemirror_mode": {
    "name": "ipython",
    "version": 3
   },
   "file_extension": ".py",
   "mimetype": "text/x-python",
   "name": "python",
   "nbconvert_exporter": "python",
   "pygments_lexer": "ipython3",
   "version": "3.8.3"
  }
 },
 "nbformat": 4,
 "nbformat_minor": 4
}
